{
 "cells": [
  {
   "cell_type": "markdown",
   "id": "583d73fe",
   "metadata": {},
   "source": [
    "### 간단한 예제"
   ]
  },
  {
   "cell_type": "code",
   "execution_count": null,
   "id": "f0a9feb0",
   "metadata": {},
   "outputs": [
    {
     "name": "stdout",
     "output_type": "stream",
     "text": [
      "John Doe\n"
     ]
    }
   ],
   "source": [
    "def get_full_name(first_name, last_name):\n",
    "    full_name = first_name.title() + \" \" + last_name.title() # title() 메서드는 문자열의 첫 글자를 대문자로 변환\n",
    "    # first_name. : 자동 완성 안 나온다\n",
    "    return full_name\n",
    "\n",
    "print(get_full_name(\"john\", \"doe\"))\n"
   ]
  },
  {
   "cell_type": "markdown",
   "id": "80fbfca1",
   "metadata": {},
   "source": [
    "### 타입 추가하기"
   ]
  },
  {
   "cell_type": "code",
   "execution_count": null,
   "id": "cddadad3",
   "metadata": {},
   "outputs": [
    {
     "name": "stdout",
     "output_type": "stream",
     "text": [
      "John Doe\n"
     ]
    }
   ],
   "source": [
    "def get_full_name(first_name: str, last_name: str): # 타입 힌트\n",
    "    full_name = first_name.title() + \" \" + last_name.title()\n",
    "    # first_name. : 자동 완성 나온다\n",
    "    return full_name\n",
    "\n",
    "print(get_full_name(\"john\", \"doe\"))\n"
   ]
  },
  {
   "cell_type": "markdown",
   "id": "93884f45",
   "metadata": {},
   "source": [
    "### 더 큰 동기 부여"
   ]
  },
  {
   "cell_type": "code",
   "execution_count": 8,
   "id": "e3e4095b",
   "metadata": {},
   "outputs": [],
   "source": [
    "def get_name_with_age(name: str, age: int):\n",
    "    name_with_age = name + \" is this old: \" + str(age)\n",
    "    return name_with_age"
   ]
  },
  {
   "cell_type": "code",
   "execution_count": 9,
   "id": "ec53c940",
   "metadata": {},
   "outputs": [
    {
     "data": {
      "text/plain": [
       "'hyub is this old: 20'"
      ]
     },
     "execution_count": 9,
     "metadata": {},
     "output_type": "execute_result"
    }
   ],
   "source": [
    "get_name_with_age('hyub', 20)"
   ]
  },
  {
   "cell_type": "markdown",
   "id": "7124e005",
   "metadata": {},
   "source": [
    "추가 가능한 Simple Type\n",
    "- str\n",
    "- int\n",
    "- float\n",
    "- bool\n",
    "- bytes"
   ]
  },
  {
   "cell_type": "markdown",
   "id": "010a59db",
   "metadata": {},
   "source": [
    "## 타입 매개변수를 활용한 Generic Type\n",
    "> dict, list, set, tuple과 같은 값을 저장할 수 있는 데이터 구조가 있고, 내부의 값은 각자의 타입을 가질 수도 있습니다.\n",
    "\n",
    "타입과 내부 타입을 선언하기 위해서는 파이썬 표준 모듈인 **typing**을 이용해야 합니다.\n",
    "\n",
    "**➡️ 대괄호 안에 매개변수를 가진다**"
   ]
  },
  {
   "cell_type": "markdown",
   "id": "9f66c0fe",
   "metadata": {},
   "source": [
    "### List\n",
    "\n",
    "typing에서 List(대문자 L)를 import 합니다."
   ]
  },
  {
   "cell_type": "code",
   "execution_count": null,
   "id": "50dab351",
   "metadata": {},
   "outputs": [],
   "source": [
    "from typing import List\n",
    "\n",
    "\n",
    "def process_items(items: List[str]): # items는 list 타입이고, 내부 타입(아이템)은 str\n",
    "    for item in items:\n",
    "        print(item)"
   ]
  },
  {
   "cell_type": "markdown",
   "id": "5bd9628b",
   "metadata": {},
   "source": [
    "### Tuple과 Set"
   ]
  },
  {
   "cell_type": "code",
   "execution_count": null,
   "id": "363c5ca4",
   "metadata": {},
   "outputs": [],
   "source": [
    "from typing import Set, Tuple\n",
    "\n",
    "def process_items(items_t: Tuple[int, int, str], item_s: Set[bytes]):\n",
    "    return items_t, item_s"
   ]
  },
  {
   "cell_type": "markdown",
   "id": "622bebf6",
   "metadata": {},
   "source": [
    "- 변수 items_t는, 차례대로 int, int, str인 tuple이다.\n",
    "- 변수 items_s는, 각 아이템이 bytes인 set이다."
   ]
  },
  {
   "cell_type": "markdown",
   "id": "d5a72fc5",
   "metadata": {},
   "source": [
    "### Dict\n",
    "\n",
    "> dict를 선언하려면 컴마로 구분된 2개의 파라미터가 필요합니다.\n",
    "1. 첫 번째 매개변수는 dict의 키(key)이고,\n",
    "2. 두 번째 매개변수는 dict의 값(value)입니다."
   ]
  },
  {
   "cell_type": "code",
   "execution_count": 10,
   "id": "4b711884",
   "metadata": {},
   "outputs": [],
   "source": [
    "from typing import Dict\n",
    "\n",
    "def process_items(prices: Dict[str, float]):\n",
    "    for item_name, item_price in prices.items():\n",
    "        print(item_name)\n",
    "        print(item_price)"
   ]
  },
  {
   "cell_type": "markdown",
   "id": "b50b0765",
   "metadata": {},
   "source": [
    "### Optional 타입\n",
    "> Optional[str]을 str 대신 쓰게 되면, 특정 값이 실제로는 None이 될 수도 있는데 항상 str이라고 가정하는 상황에서 에디터가 에러를 찾게 도와줄 수 있습니다."
   ]
  },
  {
   "cell_type": "code",
   "execution_count": 11,
   "id": "430435de",
   "metadata": {},
   "outputs": [],
   "source": [
    "from typing import Optional\n",
    "\n",
    "def say_hi(name: Optional[str] = None):\n",
    "    if name is not None:\n",
    "        print(f\"Hello {name}\")\n",
    "    else:\n",
    "        print(\"Hello World\")\n",
    "\n",
    "\n"
   ]
  },
  {
   "cell_type": "markdown",
   "id": "06f28d98",
   "metadata": {},
   "source": [
    "## 타입으로서의 클래스\n",
    "> 변수의 타입으로 클래스를 선언할 수도 있다"
   ]
  },
  {
   "cell_type": "code",
   "execution_count": null,
   "id": "2fd5b29e",
   "metadata": {},
   "outputs": [],
   "source": [
    "class Person:\n",
    "    def __init__(self, name: str):\n",
    "        self.name = name\n",
    "\n",
    "def get_person_nmae(one_person: Person):\n",
    "    return one_person.name"
   ]
  },
  {
   "cell_type": "markdown",
   "id": "81d6f46e",
   "metadata": {},
   "source": [
    "## Pydantic 모델"
   ]
  },
  {
   "cell_type": "code",
   "execution_count": null,
   "id": "bfbe2da8",
   "metadata": {},
   "outputs": [],
   "source": [
    "from datetime import datetime\n",
    "from typing import List, Union\n",
    "\n",
    "from pydantic import BaseModel\n",
    "\n",
    "\n",
    "class User(BaseModel):\n",
    "    id: int\n",
    "    name: str = \"John Doe\"\n",
    "    signup_ts: Union[datetime, None] = None\n",
    "    friends: List[int] = []\n",
    "\n",
    "\n",
    "external_data = {\n",
    "    \"id\": \"123\",\n",
    "    \"signup_ts\": \"2017-06-01 12:22\",\n",
    "    \"friends\": [1, \"2\", b\"3\"],\n",
    "}\n",
    "user = User(**external_data)\n",
    "print(user)\n",
    "# > User id=123 name='John Doe' signup_ts=datetime.datetime(2017, 6, 1, 12, 22) friends=[1, 2, 3]\n",
    "print(user.id)\n",
    "# > 123"
   ]
  },
  {
   "cell_type": "markdown",
   "id": "a0d752d9",
   "metadata": {},
   "source": [
    "Union은 여러 타입 중 하나를 선택할 수 있게 해준다 (= Optional)\n",
    "\n",
    "**➡️ 하지만, Optional을 압도적으로 선호**"
   ]
  },
  {
   "cell_type": "markdown",
   "id": "8b4b18d0",
   "metadata": {},
   "source": []
  }
 ],
 "metadata": {
  "kernelspec": {
   "display_name": "Python 3",
   "language": "python",
   "name": "python3"
  },
  "language_info": {
   "codemirror_mode": {
    "name": "ipython",
    "version": 3
   },
   "file_extension": ".py",
   "mimetype": "text/x-python",
   "name": "python",
   "nbconvert_exporter": "python",
   "pygments_lexer": "ipython3",
   "version": "3.13.3"
  }
 },
 "nbformat": 4,
 "nbformat_minor": 5
}
